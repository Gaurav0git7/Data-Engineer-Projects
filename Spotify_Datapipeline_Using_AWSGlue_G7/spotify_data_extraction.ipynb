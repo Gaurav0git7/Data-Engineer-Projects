{
 "cells": [
  {
   "cell_type": "markdown",
   "id": "38aea51f-42cf-4c93-b023-ec675dc380a4",
   "metadata": {},
   "source": [
    "### Data Extraction using Spotify API - in real time"
   ]
  },
  {
   "cell_type": "markdown",
   "id": "fab3c421-e18f-4b1c-823b-e9a9e6a93879",
   "metadata": {},
   "source": [
    "#### Please note that this is real-time data, retrieved via the API, will be updated dynamically and can change based on the time of execution (September)"
   ]
  },
  {
   "cell_type": "markdown",
   "id": "c00c16b4-1570-4289-a235-dc6b5e02f7b5",
   "metadata": {},
   "source": [
    "To access spotify library"
   ]
  },
  {
   "cell_type": "markdown",
   "id": "23b12c2d-e6c6-4777-8802-7ed5db87a389",
   "metadata": {},
   "source": [
    "pip install spotipy"
   ]
  },
  {
   "cell_type": "markdown",
   "id": "97e229b1-1d98-413d-9f97-f3021946b7e7",
   "metadata": {},
   "source": [
    "To access data from spotify & for authorization"
   ]
  },
  {
   "cell_type": "code",
   "execution_count": null,
   "id": "54e894f3-c948-4fc6-a6f1-1e7ec22118d8",
   "metadata": {},
   "outputs": [],
   "source": [
    "import spotipy       \n",
    "from spotipy.oauth2 import SpotifyClientCredentials\n",
    "import pandas as pd"
   ]
  },
  {
   "cell_type": "markdown",
   "id": "d5bff8c4-f0ae-435f-a8c7-08425f3eca6c",
   "metadata": {},
   "source": [
    "paste client id & secret from spotify developer account (app) $ also for authentication"
   ]
  },
  {
   "cell_type": "code",
   "execution_count": null,
   "id": "f9ac8adb-06d6-4f49-9b86-644e05436449",
   "metadata": {},
   "outputs": [],
   "source": [
    "client_credentials_manager = SpotifyClientCredentials(client_id = \"\",client_secret = \"\")"
   ]
  },
  {
   "cell_type": "code",
   "execution_count": null,
   "id": "e50f400b-4a65-4deb-a60b-4609351ee5a6",
   "metadata": {},
   "outputs": [],
   "source": [
    "sp = spotipy.Spotify(client_credentials_manager = client_credentials_manager)"
   ]
  },
  {
   "cell_type": "markdown",
   "id": "6be5a65b-f9b8-47ab-be78-41d7b6ff958d",
   "metadata": {},
   "source": [
    "playlist_link of top 50 songs globally trending "
   ]
  },
  {
   "cell_type": "code",
   "execution_count": null,
   "id": "6ac82a6a-bb88-4dd4-83b6-44534775d1eb",
   "metadata": {},
   "outputs": [],
   "source": [
    "playlist_link = \"https://open.spotify.com/playlist/37i9dQZEVXbNG2KDcFcKOF?si=1333723a6eff4b7f\""
   ]
  },
  {
   "cell_type": "code",
   "execution_count": null,
   "id": "1835ea31-bb58-47f7-b069-1189916034c5",
   "metadata": {},
   "outputs": [],
   "source": [
    "playlist_uri = playlist_link.split(\"/\")[-1].split(\"?\")[0]"
   ]
  },
  {
   "cell_type": "code",
   "execution_count": null,
   "id": "9ceaa0a1-b8c9-4cb3-a9be-374331db68ac",
   "metadata": {},
   "outputs": [],
   "source": [
    "print(playlist_uri)"
   ]
  },
  {
   "cell_type": "code",
   "execution_count": null,
   "id": "7581ffe2-b346-40a9-834a-fca89fdcd209",
   "metadata": {},
   "outputs": [],
   "source": [
    "data = sp.playlist_tracks(playlist_uri)"
   ]
  },
  {
   "cell_type": "code",
   "execution_count": null,
   "id": "510b859d-f307-447b-b1b2-7393c9972ce1",
   "metadata": {},
   "outputs": [],
   "source": [
    "data['items']   #contain album , artist and song details"
   ]
  },
  {
   "cell_type": "code",
   "execution_count": null,
   "id": "d63ab262-684a-417b-b523-b9eda96ac2ee",
   "metadata": {},
   "outputs": [],
   "source": [
    "len(data['items'])"
   ]
  },
  {
   "cell_type": "code",
   "execution_count": null,
   "id": "702cc86c-d28a-40b9-ad95-38dd60e2ea24",
   "metadata": {},
   "outputs": [],
   "source": [
    "data['items'][0]['track']['album']"
   ]
  },
  {
   "cell_type": "code",
   "execution_count": null,
   "id": "28169aaa-e822-429c-9a57-d935ba39fe9c",
   "metadata": {},
   "outputs": [],
   "source": [
    "data['items'][0]['track']['album']['id']"
   ]
  },
  {
   "cell_type": "code",
   "execution_count": null,
   "id": "a82951b8-d0b7-42f1-98f3-841a8fe02a3b",
   "metadata": {},
   "outputs": [],
   "source": [
    "data['items'][0]['track']['album']['name']"
   ]
  },
  {
   "cell_type": "code",
   "execution_count": null,
   "id": "3477ffaf-1ba6-43ba-b670-41d3935abd83",
   "metadata": {},
   "outputs": [],
   "source": [
    "data['items'][0]['track']['album']['release_date']"
   ]
  },
  {
   "cell_type": "code",
   "execution_count": null,
   "id": "7f6f0274-e13e-4316-bcee-207d45d79a99",
   "metadata": {},
   "outputs": [],
   "source": [
    "data['items'][0]['track']['album']['total_tracks']"
   ]
  },
  {
   "cell_type": "code",
   "execution_count": null,
   "id": "ff97ebe6-d760-4784-85eb-ad54900bf485",
   "metadata": {},
   "outputs": [],
   "source": [
    "data['items'][0]['track']['album']['external_urls']"
   ]
  },
  {
   "cell_type": "code",
   "execution_count": null,
   "id": "d0f6f11d-6602-4336-b798-5e4f9d845783",
   "metadata": {},
   "outputs": [],
   "source": [
    "data['items'][0]['track']['album']['external_urls']['spotify']"
   ]
  },
  {
   "cell_type": "code",
   "execution_count": null,
   "id": "f3fe59fc-8d96-4dba-a374-a0ddefb9b8a2",
   "metadata": {},
   "outputs": [],
   "source": [
    "album_list = []\n",
    "for row in data['items']:\n",
    "    album_info = row['track']['album']\n",
    "    \n",
    "    album_id = album_info['id']\n",
    "    album_name = album_info['name']\n",
    "    album_release_date = album_info['release_date']\n",
    "    album_total_tracks = album_info['total_tracks']\n",
    "    album_url = album_info['external_urls']['spotify']\n",
    "    album_cover_art_url = album_info['images'][0]['url'] if album_info['images'] else None  \n",
    "    length = f\"{row['track']['duration_ms'] // 60000}:{(row['track']['duration_ms'] // 1000) % 60:02}\"\n",
    "\n",
    "\n",
    "    album_element = {\n",
    "        'album_id': album_id,\n",
    "        'album_name': album_name,\n",
    "        'release_date': album_release_date,\n",
    "        'total_tracks': album_total_tracks,\n",
    "        'url': album_url,\n",
    "        'cover_art': album_cover_art_url, \n",
    "        'length': length, \n",
    "        'song_ids': [row['track']['id']] \n",
    "    }\n",
    "    \n",
    "    # Check if album already exists to avoid duplicates\n",
    "    if album_element not in album_list:\n",
    "        album_list.append(album_element)\n"
   ]
  },
  {
   "cell_type": "code",
   "execution_count": null,
   "id": "db54bcc0-94bb-40be-b7d6-57245d168fe3",
   "metadata": {},
   "outputs": [],
   "source": [
    "album_list"
   ]
  },
  {
   "cell_type": "code",
   "execution_count": null,
   "id": "524b1a2a-0ae7-440c-82ab-5e79919e17b3",
   "metadata": {},
   "outputs": [],
   "source": [
    "data['items'][1]['track']['artists']"
   ]
  },
  {
   "cell_type": "code",
   "execution_count": null,
   "id": "d895edfd-e6d1-4ddc-82de-2e662394db84",
   "metadata": {},
   "outputs": [],
   "source": [
    "artist_list = []\n",
    "for row in data['items']:\n",
    "    for key, value in row.items():\n",
    "        if key == 'track':\n",
    "            song_id = value['id']  \n",
    "            track_number = value['track_number']  \n",
    "            \n",
    "            for artist in value['artists']:\n",
    "                artist_dict = {\n",
    "                    'artist_id': artist['id'],\n",
    "                    'artist_name': artist['name'],\n",
    "                    'external_url': artist['href'],\n",
    "                    'song_id': song_id, \n",
    "                    'track_number': track_number  \n",
    "                }\n",
    "                artist_list.append(artist_dict)\n"
   ]
  },
  {
   "cell_type": "code",
   "execution_count": null,
   "id": "cc708f8d-326f-458c-8e2d-30ad37aa6bde",
   "metadata": {},
   "outputs": [],
   "source": [
    "artist_list"
   ]
  },
  {
   "cell_type": "code",
   "execution_count": null,
   "id": "5b66df9d-dd51-469d-b317-ba25c296656b",
   "metadata": {},
   "outputs": [],
   "source": [
    "song_list = []\n",
    "for row in data['items']:\n",
    "    song_id = row['track']['id']\n",
    "    song_name = row['track']['name']\n",
    "    song_duration = row['track']['duration_ms']\n",
    "    song_url = row['track']['external_urls']['spotify']\n",
    "    song_popularity = row['track']['popularity']\n",
    "    song_added = row['added_at']\n",
    "    explicit_flag = row['track']['explicit']  \n",
    "\n",
    "    \n",
    "    song_element = {\n",
    "        'song_id': song_id,\n",
    "        'song_name': song_name,\n",
    "        'duration_ms': song_duration,\n",
    "        'url': song_url,\n",
    "        'popularity': song_popularity,\n",
    "        'song_added': song_added,\n",
    "        'explicit': explicit_flag,\n",
    "    }\n",
    "    \n",
    "    # Append the song element to the list\n",
    "    song_list.append(song_element)\n"
   ]
  },
  {
   "cell_type": "code",
   "execution_count": null,
   "id": "30571476-c274-4f1f-81e4-3f8cfca59133",
   "metadata": {},
   "outputs": [],
   "source": [
    "album_df = pd.DataFrame.from_dict(album_list)"
   ]
  },
  {
   "cell_type": "code",
   "execution_count": null,
   "id": "7c8328bf-b774-4a13-a2d4-668e04f584ca",
   "metadata": {},
   "outputs": [],
   "source": [
    "album_df.head()"
   ]
  },
  {
   "cell_type": "code",
   "execution_count": null,
   "id": "43078e37-6343-4653-ab50-fbae10f12b54",
   "metadata": {},
   "outputs": [],
   "source": [
    "artist_df = pd.DataFrame.from_dict(artist_list)"
   ]
  },
  {
   "cell_type": "code",
   "execution_count": null,
   "id": "bb035ab6-39b8-4bbc-ab5d-a6bf93ed14b2",
   "metadata": {},
   "outputs": [],
   "source": [
    "artist_df.head()"
   ]
  },
  {
   "cell_type": "code",
   "execution_count": null,
   "id": "8c83d197-d2e8-4a36-8ca9-66baa8e86237",
   "metadata": {},
   "outputs": [],
   "source": [
    "song_df = pd.DataFrame.from_dict(song_list)"
   ]
  },
  {
   "cell_type": "code",
   "execution_count": null,
   "id": "d1d6a0a7-244c-4efd-83a1-86da0a369744",
   "metadata": {},
   "outputs": [],
   "source": [
    "song_df.head()"
   ]
  },
  {
   "cell_type": "code",
   "execution_count": null,
   "id": "8f92aefa-1b81-47e1-880c-78104e8888c9",
   "metadata": {},
   "outputs": [],
   "source": [
    "song_df"
   ]
  },
  {
   "cell_type": "code",
   "execution_count": null,
   "id": "44b66f3d-e268-47fd-8ae1-290712f48a19",
   "metadata": {},
   "outputs": [],
   "source": [
    "album_df .info()"
   ]
  },
  {
   "cell_type": "code",
   "execution_count": null,
   "id": "3f9be2f0-1a20-4b34-9a52-eaff350b328e",
   "metadata": {},
   "outputs": [],
   "source": [
    "album_df['release_date'] = pd.to_datetime(album_df['release_date']) "
   ]
  },
  {
   "cell_type": "code",
   "execution_count": null,
   "id": "94f35769-b328-4589-95d2-f78784ea3e69",
   "metadata": {},
   "outputs": [],
   "source": [
    "album_df"
   ]
  },
  {
   "cell_type": "code",
   "execution_count": null,
   "id": "e03ff734-0456-456a-9043-f06c1f870dbf",
   "metadata": {},
   "outputs": [],
   "source": [
    "artist_df.info()"
   ]
  },
  {
   "cell_type": "code",
   "execution_count": null,
   "id": "518d88d4-8ebd-4dcf-8ca1-a9fea47dc1e3",
   "metadata": {},
   "outputs": [],
   "source": [
    "artist_df"
   ]
  },
  {
   "cell_type": "code",
   "execution_count": null,
   "id": "e37a313e-e37e-48ac-9b6b-88e093aaa34c",
   "metadata": {},
   "outputs": [],
   "source": [
    "song_df.info()"
   ]
  },
  {
   "cell_type": "code",
   "execution_count": null,
   "id": "57af0b5d-9c74-460e-98db-64d051a14bd5",
   "metadata": {},
   "outputs": [],
   "source": [
    "song_df['song_added'] = pd.to_datetime(song_df['song_added']) "
   ]
  },
  {
   "cell_type": "code",
   "execution_count": null,
   "id": "ab07588e-44af-43f2-9c63-2b288ef77a2f",
   "metadata": {},
   "outputs": [],
   "source": [
    "song_df"
   ]
  },
  {
   "cell_type": "markdown",
   "id": "f6379c79-e397-4bef-807d-d01c8e9b5aa4",
   "metadata": {},
   "source": [
    "Save the DataFrame to a CSV file"
   ]
  },
  {
   "cell_type": "code",
   "execution_count": null,
   "id": "939fcb07-ed3b-4a6a-a688-f2c310f62575",
   "metadata": {},
   "outputs": [],
   "source": [
    " album_df.to_csv('Albums.csv', index=False)\n",
    " artist_df.to_csv('Artists.csv', index=False)\n",
    " song_df.to_csv('Songs.csv', index=False)\n",
    " print(\"CSV file saved successfully!\")"
   ]
  }
 ],
 "metadata": {
  "kernelspec": {
   "display_name": "Python 3 (ipykernel)",
   "language": "python",
   "name": "python3"
  },
  "language_info": {
   "codemirror_mode": {
    "name": "ipython",
    "version": 3
   },
   "file_extension": ".py",
   "mimetype": "text/x-python",
   "name": "python",
   "nbconvert_exporter": "python",
   "pygments_lexer": "ipython3",
   "version": "3.13.0"
  }
 },
 "nbformat": 4,
 "nbformat_minor": 5
}
